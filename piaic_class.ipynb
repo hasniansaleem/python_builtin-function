{
 "cells": [
  {
   "cell_type": "code",
   "execution_count": 1,
   "metadata": {},
   "outputs": [
    {
     "name": "stdout",
     "output_type": "stream",
     "text": [
      "Enter youre namehasnain\n",
      "Enter your father namesaleem ahmed\n",
      "\n",
      "piaic islamabac Batch3\n",
      "Name: hasnain\n",
      "Father_Name: saleem ahmed\n",
      "University: Numl university islamabad\n",
      "\n"
     ]
    }
   ],
   "source": [
    "# format():- Formats specified values in a string\n",
    "name =input(\"Enter youre name\")\n",
    "Father_Name =input(\"Enter your father name\")\n",
    "uni = \"Numl university islamabad\"   \n",
    "message = \"\"\"\n",
    "piaic islamabac Batch3\n",
    "Name: {}\n",
    "Father_Name: {}\n",
    "University: {}\n",
    "\"\"\"\n",
    "message1 = message.format(name, Father_Name, uni)\n",
    "print(message1)\n",
    "\n",
    "\n"
   ]
  },
  {
   "cell_type": "code",
   "execution_count": 2,
   "metadata": {},
   "outputs": [
    {
     "name": "stdout",
     "output_type": "stream",
     "text": [
      "Hello world\n"
     ]
    }
   ],
   "source": [
    "#print():- Print a message onto the screen:\n",
    "print(\"Hello world\")\n",
    "print?"
   ]
  },
  {
   "cell_type": "code",
   "execution_count": 3,
   "metadata": {},
   "outputs": [
    {
     "name": "stdout",
     "output_type": "stream",
     "text": [
      "-5\n",
      "these are the same\n"
     ]
    }
   ],
   "source": [
    "# abs():-Returns the absolute value of a number\n",
    "exNum1 = -5\n",
    "exNum2 = 5\n",
    "print(exNum1)\n",
    "\n",
    "if abs(exNum1) == exNum2:\n",
    "    print('these are the same')\n"
   ]
  },
  {
   "cell_type": "code",
   "execution_count": 4,
   "metadata": {},
   "outputs": [
    {
     "name": "stdout",
     "output_type": "stream",
     "text": [
      "9\n",
      "0\n"
     ]
    }
   ],
   "source": [
    "#max():- Returns the largest item in an iterable\n",
    "list= [2,6,3,4,8,0,1,9]\n",
    "print(max(list))\n",
    "#max():- Returns the Smallest item in an iterable\n",
    "list1= [2,6,3,4,8,0,1,9]\n",
    "print(min(list))"
   ]
  },
  {
   "cell_type": "code",
   "execution_count": 5,
   "metadata": {},
   "outputs": [
    {
     "name": "stdout",
     "output_type": "stream",
     "text": [
      "55.0\n",
      "55.5\n",
      "Enter your name:\n",
      "ali raza\n",
      "Hello, ali raza\n"
     ]
    }
   ],
   "source": [
    "#float() :- Return to floating point number\n",
    "num = '55'\n",
    "print(float(num))\n",
    "\n",
    "#str():- function converts the specified value into a string.\n",
    "x=55.5\n",
    "print(str(x))\n",
    "\n",
    "#input():- Allowing user input\n",
    "\n",
    "print(\"Enter your name:\")\n",
    "x = input()\n",
    "print(\"Hello, \" + x)\n"
   ]
  },
  {
   "cell_type": "code",
   "execution_count": 6,
   "metadata": {},
   "outputs": [
    {
     "name": "stdout",
     "output_type": "stream",
     "text": [
      "36\n"
     ]
    }
   ],
   "source": [
    "# getattr():- Returns the value of the specified attribute (property or method)\n",
    "\n",
    "class Person:\n",
    "  name = \"John\"\n",
    "  age = 36\n",
    "  country = \"Norway\"\n",
    "\n",
    "x = getattr(Person, 'age')\n",
    "\n",
    "print(x)\n"
   ]
  },
  {
   "cell_type": "code",
   "execution_count": null,
   "metadata": {},
   "outputs": [],
   "source": []
  }
 ],
 "metadata": {
  "kernelspec": {
   "display_name": "Python 3",
   "language": "python",
   "name": "python3"
  },
  "language_info": {
   "codemirror_mode": {
    "name": "ipython",
    "version": 3
   },
   "file_extension": ".py",
   "mimetype": "text/x-python",
   "name": "python",
   "nbconvert_exporter": "python",
   "pygments_lexer": "ipython3",
   "version": "3.7.3"
  }
 },
 "nbformat": 4,
 "nbformat_minor": 2
}
